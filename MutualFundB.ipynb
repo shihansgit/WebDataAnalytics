{
 "cells": [
  {
   "cell_type": "markdown",
   "metadata": {
    "deletable": true,
    "editable": true
   },
   "source": [
    "## Assignment 1 Part B (10 marks)."
   ]
  },
  {
   "cell_type": "markdown",
   "metadata": {
    "deletable": true,
    "editable": true
   },
   "source": [
    "### In this assignment your task is to write a program that obtains all the reviews for a specific restaurant from Yelp.com.  The input to this program should be the complete URL for the Yelp page of the restaurant you want to obtain reviews for.  Make sure that your program obtains all the reviews from all the pages if the reviews paginate to more than one page.  "
   ]
  },
  {
   "cell_type": "markdown",
   "metadata": {
    "deletable": true,
    "editable": true
   },
   "source": [
    "#### For example, let's say the input url is for J Wata Temaki Bar in San Diego.  "
   ]
  },
  {
   "cell_type": "markdown",
   "metadata": {
    "deletable": true,
    "editable": true
   },
   "source": [
    "#### The URL for the restaurant is:"
   ]
  },
  {
   "cell_type": "code",
   "execution_count": 20,
   "metadata": {
    "collapsed": true,
    "deletable": true,
    "editable": true
   },
   "outputs": [],
   "source": [
    "yelp_restaurant_url = \"https://www.yelp.com/biz/j-wata-temaki-bar-san-diego-4\""
   ]
  },
  {
   "cell_type": "markdown",
   "metadata": {
    "deletable": true,
    "editable": true
   },
   "source": [
    "#### Your program should take the yelp_restaurant_url variable and obtain all the reviews for the restaurant.  Make sure that if the yelp_restaurant_url variable changes, then the reviews you obtain are also for the new restaurant.  "
   ]
  },
  {
   "cell_type": "markdown",
   "metadata": {
    "deletable": true,
    "editable": true
   },
   "source": [
    "#### Your program should output a CSV file with three columns.  In the first column is the restaurant name, in the second column is the reviewers' name, and in the third column is the review text.  "
   ]
  },
  {
   "cell_type": "code",
   "execution_count": 65,
   "metadata": {},
   "outputs": [
    {
     "data": {
      "text/plain": [
       "'<!DOCTYPE HTML>\\n\\n<!--[if lt IE 7 ]> <html xmlns:fb=\"http://www.facebook.com/2008/fbml\" class=\"ie6 ie ltie9 ltie8 no-js\" lang=\"en\"> <![endif]-->\\n<!--[if IE 7 ]>    <html xmlns:fb=\"http://www.facebook.com/2008/fbml\" class=\"ie7 ie ltie9 ltie8 no-js\" lang=\"en\"> <![endif]-->\\n<!--[if IE 8 ]>    <html xmlns:fb=\"http://www.facebook.com/2008/fbml\" class=\"ie8 ie ltie9 no-js\" lang=\"en\"> <![endif]-->\\n<!--[if IE 9 ]>    <html xmlns:fb=\"http://www.facebook.com/2008/fbml\" class=\"ie9 ie no-js\" lang=\"en\"> <![end'"
      ]
     },
     "execution_count": 65,
     "metadata": {},
     "output_type": "execute_result"
    }
   ],
   "source": [
    "yelp_restaurant_url = \"https://www.yelp.com/biz/j-wata-temaki-bar-san-diego-4\"\n",
    "import urllib\n",
    "import time\n",
    "\n",
    "#read the total html code string\n",
    "rest = urllib.request.urlopen(yelp_restaurant_url)\n",
    "time.sleep(5)\n",
    "rest = rest.read().decode('utf-8')\n",
    "rest[0:500]"
   ]
  },
  {
   "cell_type": "code",
   "execution_count": 73,
   "metadata": {},
   "outputs": [
    {
     "name": "stdout",
     "output_type": "stream",
     "text": [
      "J Wata Temaki Bar\n"
     ]
    }
   ],
   "source": [
    "# get rest name\n",
    "loc=rest.find('<div class=\\\"biz-page-header-left') # cut down the name scope to rest1\n",
    "#loc\n",
    "name_nd=rest.find('<div class=\\\"u-inline-block\\\">')\n",
    "#name_nd\n",
    "rest1=rest[loc:name_nd]\n",
    "rest1\n",
    "\n",
    "name_header='<h1 class=\\\"biz-page-title embossed-text-white shortenough\\\">' # the code just before rest name\n",
    "rest_name=''\n",
    "#start = rest.find(name_header)\n",
    "#start\n",
    "#end = rest.find('</h1>')\n",
    "#end\n",
    "\n",
    "while rest1.find(name_header) != -1:   # the long rest name be cut into small chunks\n",
    "    start = rest1.find(name_header)\n",
    "    end = rest1.find('</h1>')\n",
    "    rest_name+= rest1[start+len(name_header):end]+' '\n",
    "    rest1=rest1[end+len('</h1>'):]\n",
    "rest_name=rest_name.strip(' ')\n",
    "print(rest_name)"
   ]
  },
  {
   "cell_type": "code",
   "execution_count": 17,
   "metadata": {
    "collapsed": true,
    "deletable": true,
    "editable": true
   },
   "outputs": [
    {
     "data": {
      "text/plain": [
       "60"
      ]
     },
     "execution_count": 17,
     "metadata": {},
     "output_type": "execute_result"
    }
   ],
   "source": [
    "names=[]\n",
    "reviews=[]\n",
    "last_page = False\n",
    "i=20\n",
    "yelp_restaurant_url = \"https://www.yelp.com/biz/j-wata-temaki-bar-san-diego-4\"\n",
    "html=yelp_restaurant_url\n",
    "while last_page == False:\n",
    "    rest = urllib.request.urlopen(html)\n",
    "    time.sleep(5)\n",
    "    rest = rest.read().decode('utf-8')\n",
    "\n",
    "    #loc2_st=rest.find('<div class=\"review-list\"')# get close to rev\n",
    "    #loc2_nd=rest.find('<div class=\"throbber-overlay\" style=\"display: none;\">')\n",
    "    #rest2=rest[loc2_st:loc2_nd]\n",
    "    \n",
    "    while rest.find('<meta itemprop=\"author\" content=')!=-1:# find user name\n",
    "        name_st='<meta itemprop=\"author\" content='\n",
    "        name_nd='<div itemprop=\"reviewRating\" itemscope itemtype='\n",
    "        start=rest.find(name_st)\n",
    "        #start\n",
    "        end=rest.find(name_nd)\n",
    "        #end\n",
    "        user_name=rest[start+len(name_st)+1:end-11]\n",
    "        names.append(user_name)\n",
    "        remaining=rest[end+len(name_nd):]\n",
    "    \n",
    "        rev_st='<p itemprop=\"description\">' # find user rev\n",
    "        rev_nd='<div itemprop=\"review\" itemscope itemtype='\n",
    "        start=remaining.find(rev_st)\n",
    "        #start\n",
    "        end=remaining.find(rev_nd)\n",
    "        #end\n",
    "        user_rev=remaining[start+len(rev_st):end-28]\n",
    "        reviews.append(user_rev)\n",
    "        rest=remaining[end+len(rev_nd):]        \n",
    "\n",
    "        #rev_real_st=user_rev.find('<p')\n",
    "        #rev_real_nd=user_rev.find('</p>')\n",
    "        #rev_real=user_rev[rev_real_st+13:rev_real_nd]\n",
    "        #reviews.append(rev_real)\n",
    "    \n",
    "        #rest2=rest2[end+len(rev_nd):]\n",
    "        #rest=remaining\n",
    "        \n",
    "    if rest.find('<span class=\"pagination-label responsive-hidden-small pagination-links_anchor\">Next')==-1:\n",
    "        last_page = True\n",
    "    else:\n",
    "        html=yelp_restaurant_url+'?start'+'='+str(i)\n",
    "        i+=20\n",
    "\n",
    "open_file=open('rest.csv','w')\n",
    "open_file.write('name','user','review')\n",
    "open_file.write(names)\n",
    "open_file.write(reviews)"
   ]
  }
 ],
 "metadata": {
  "kernelspec": {
   "display_name": "Python 3",
   "language": "python",
   "name": "python3"
  },
  "language_info": {
   "codemirror_mode": {
    "name": "ipython",
    "version": 3
   },
   "file_extension": ".py",
   "mimetype": "text/x-python",
   "name": "python",
   "nbconvert_exporter": "python",
   "pygments_lexer": "ipython3",
   "version": "3.6.8"
  }
 },
 "nbformat": 4,
 "nbformat_minor": 2
}
