{
 "cells": [
  {
   "cell_type": "markdown",
   "metadata": {
    "deletable": true,
    "editable": true
   },
   "source": [
    "## Assignment 2 Part B (10 marks)"
   ]
  },
  {
   "cell_type": "markdown",
   "metadata": {
    "deletable": true,
    "editable": true
   },
   "source": [
    "### Your task in this assignment is to scrape the first 3 pages of quotes from the following website:"
   ]
  },
  {
   "cell_type": "markdown",
   "metadata": {
    "deletable": true,
    "editable": true
   },
   "source": [
    "#### http://quotes.toscrape.com/js/"
   ]
  },
  {
   "cell_type": "markdown",
   "metadata": {
    "deletable": true,
    "editable": true
   },
   "source": [
    "### You will need to do this using selenium because the webiste uses javascript to render the content. You will use the chrome driver as discussed in class."
   ]
  },
  {
   "cell_type": "markdown",
   "metadata": {
    "deletable": true,
    "editable": true
   },
   "source": [
    "### Your code should output a csv file with 2 columns.  The first column has the person who stated the quote and the second column has the text of the quote. "
   ]
  },
  {
   "cell_type": "code",
   "execution_count": 9,
   "metadata": {},
   "outputs": [
    {
     "name": "stdout",
     "output_type": "stream",
     "text": [
      "['http://quotes.toscrape.com/js/page/1/', 'http://quotes.toscrape.com/js/page/2/', 'http://quotes.toscrape.com/js/page/3/']\n"
     ]
    }
   ],
   "source": [
    "num_pages = 4\n",
    "urls = []\n",
    "\n",
    "for i in range(1, num_pages):\n",
    "    urls.append('http://quotes.toscrape.com/js/page/' + str(i) + '/')\n",
    "\n",
    "print(urls)"
   ]
  },
  {
   "cell_type": "code",
   "execution_count": 10,
   "metadata": {
    "collapsed": true,
    "deletable": true,
    "editable": true
   },
   "outputs": [],
   "source": [
    "from bs4 import BeautifulSoup as bs\n",
    "from selenium import webdriver\n",
    "from selenium.webdriver.chrome.options import Options\n",
    "chrome_options = Options()\n",
    "chrome_options.add_argument('--headless')\n",
    "chrome_options.add_argument('--no-sandbox')\n",
    "chrome_options.add_argument('--disable-dev-shm-usage')\n",
    "driver = webdriver.Chrome('/usr/local/bin/chromedriver', options = chrome_options)\n"
   ]
  },
  {
   "cell_type": "code",
   "execution_count": 12,
   "metadata": {},
   "outputs": [],
   "source": [
    "from bs4 import BeautifulSoup as bs\n",
    "from selenium import webdriver\n",
    "from selenium.webdriver.chrome.options import Options\n",
    "chrome_options = Options()\n",
    "chrome_options.add_argument('--headless')\n",
    "chrome_options.add_argument('--no-sandbox')\n",
    "chrome_options.add_argument('--disable-dev-shm-usage')\n",
    "driver = webdriver.Chrome('/usr/local/bin/chromedriver', options = chrome_options)\n",
    "\n",
    "driver.get('http://quotes.toscrape.com/js/')\n",
    "assert 'Quotes to Scrape' in driver.title # Wait for the page to load\n",
    "html = driver.page_source # Get the html of the page\n",
    "driver.quit() # Close the browser\n"
   ]
  },
  {
   "cell_type": "code",
   "execution_count": 30,
   "metadata": {},
   "outputs": [],
   "source": [
    "from bs4 import BeautifulSoup as bs\n",
    "from selenium import webdriver\n",
    "#path=\"Files_Directory/chromedriver.exe\"\n",
    "\n",
    "import time\n",
    "import random\n",
    "from bs4 import BeautifulSoup as bs\n",
    "from selenium import webdriver\n",
    "from selenium.webdriver.chrome.options import Options\n",
    "chrome_options = Options()\n",
    "chrome_options.add_argument('--headless')\n",
    "chrome_options.add_argument('--no-sandbox')\n",
    "chrome_options.add_argument('--disable-dev-shm-usage')\n",
    "driver = webdriver.Chrome('/usr/local/bin/chromedriver', options = chrome_options)\n",
    "\n",
    "authors = []\n",
    "texts = []\n",
    "\n",
    "for url in urls:\n",
    "    #driver = webdriver.Chrome(path)\n",
    "    driver = webdriver.Chrome('/usr/local/bin/chromedriver', options = chrome_options)\n",
    "    driver.get(url) # Start the browser and open 'url'\n",
    "    \n",
    "    assert 'Quotes to Scrape' in driver.title # Wait for the page to load\n",
    "    time.sleep(random.uniform(3,7))\n",
    "    # time.sleep(5)\n",
    "    html = driver.page_source # Get the html of the page\n",
    "\n",
    "    soup = bs(html, 'html.parser')\n",
    "    for html_class in soup.find_all('div', class_ = \"quote\"):\n",
    "        author = html_class.find(class_=\"author\").contents[0]\n",
    "        authors.append(author)\n",
    "        \n",
    "    for html_class in soup.find_all('div', class_ = \"quote\"):\n",
    "        text = html_class.find(class_=\"text\").contents[0].strip('\"').strip('“').strip('”')\n",
    "        texts.append(text)\n",
    "    "
   ]
  },
  {
   "cell_type": "code",
   "execution_count": 35,
   "metadata": {},
   "outputs": [
    {
     "data": {
      "text/html": [
       "<div>\n",
       "<style scoped>\n",
       "    .dataframe tbody tr th:only-of-type {\n",
       "        vertical-align: middle;\n",
       "    }\n",
       "\n",
       "    .dataframe tbody tr th {\n",
       "        vertical-align: top;\n",
       "    }\n",
       "\n",
       "    .dataframe thead th {\n",
       "        text-align: right;\n",
       "    }\n",
       "</style>\n",
       "<table border=\"1\" class=\"dataframe\">\n",
       "  <thead>\n",
       "    <tr style=\"text-align: right;\">\n",
       "      <th></th>\n",
       "      <th>Author of the Quotes</th>\n",
       "      <th>Content</th>\n",
       "    </tr>\n",
       "  </thead>\n",
       "  <tbody>\n",
       "    <tr>\n",
       "      <th>0</th>\n",
       "      <td>Albert Einstein</td>\n",
       "      <td>The world as we have created it is a process o...</td>\n",
       "    </tr>\n",
       "    <tr>\n",
       "      <th>1</th>\n",
       "      <td>J.K. Rowling</td>\n",
       "      <td>It is our choices, Harry, that show what we tr...</td>\n",
       "    </tr>\n",
       "    <tr>\n",
       "      <th>2</th>\n",
       "      <td>Albert Einstein</td>\n",
       "      <td>There are only two ways to live your life. One...</td>\n",
       "    </tr>\n",
       "    <tr>\n",
       "      <th>3</th>\n",
       "      <td>Jane Austen</td>\n",
       "      <td>The person, be it gentleman or lady, who has n...</td>\n",
       "    </tr>\n",
       "    <tr>\n",
       "      <th>4</th>\n",
       "      <td>Marilyn Monroe</td>\n",
       "      <td>Imperfection is beauty, madness is genius and ...</td>\n",
       "    </tr>\n",
       "  </tbody>\n",
       "</table>\n",
       "</div>"
      ],
      "text/plain": [
       "  Author of the Quotes                                            Content\n",
       "0      Albert Einstein  The world as we have created it is a process o...\n",
       "1         J.K. Rowling  It is our choices, Harry, that show what we tr...\n",
       "2      Albert Einstein  There are only two ways to live your life. One...\n",
       "3          Jane Austen  The person, be it gentleman or lady, who has n...\n",
       "4       Marilyn Monroe  Imperfection is beauty, madness is genius and ..."
      ]
     },
     "execution_count": 35,
     "metadata": {},
     "output_type": "execute_result"
    }
   ],
   "source": [
    "import pandas as pd\n",
    "\n",
    "df = pd.DataFrame({'Author of the Quotes': authors, 'Content': texts})\n",
    "df.head()"
   ]
  },
  {
   "cell_type": "code",
   "execution_count": 36,
   "metadata": {},
   "outputs": [],
   "source": [
    "df.to_csv('/home/jovyan/OneDrive/DESKTOP/MGTA495/Files_Directory/Quotes.csv', index = False)"
   ]
  },
  {
   "cell_type": "code",
   "execution_count": null,
   "metadata": {},
   "outputs": [],
   "source": []
  }
 ],
 "metadata": {
  "kernelspec": {
   "display_name": "Python 3",
   "language": "python",
   "name": "python3"
  },
  "language_info": {
   "codemirror_mode": {
    "name": "ipython",
    "version": 3
   },
   "file_extension": ".py",
   "mimetype": "text/x-python",
   "name": "python",
   "nbconvert_exporter": "python",
   "pygments_lexer": "ipython3",
   "version": "3.6.8"
  }
 },
 "nbformat": 4,
 "nbformat_minor": 2
}
