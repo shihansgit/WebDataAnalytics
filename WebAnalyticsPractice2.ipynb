{
 "cells": [
  {
   "cell_type": "code",
   "execution_count": 113,
   "metadata": {},
   "outputs": [],
   "source": [
    "#Study Group:Weige Yang, Shihan Wang\n",
    "#Question 1"
   ]
  },
  {
   "cell_type": "code",
   "execution_count": 114,
   "metadata": {},
   "outputs": [
    {
     "data": {
      "text/plain": [
       "'/home/jovyan/OneDrive/DESKTOP/MGTA495/day2'"
      ]
     },
     "execution_count": 114,
     "metadata": {},
     "output_type": "execute_result"
    }
   ],
   "source": [
    "pwd"
   ]
  },
  {
   "cell_type": "code",
   "execution_count": 115,
   "metadata": {},
   "outputs": [],
   "source": [
    "import urllib.request"
   ]
  },
  {
   "cell_type": "code",
   "execution_count": 116,
   "metadata": {},
   "outputs": [],
   "source": [
    "states = ['Indiana', 'Mississippi', 'NewJersey']\n",
    "state_code = open('/home/jovyan/OneDrive/DESKTOP/BLS_state_codes.csv','r')\n",
    "state_code_read = state_code.read()\n",
    "state_code.close()"
   ]
  },
  {
   "cell_type": "code",
   "execution_count": 117,
   "metadata": {},
   "outputs": [],
   "source": [
    "state_code_read = state_code_read.replace(',','.')\n",
    "state_code_read = state_code_read.splitlines(0)"
   ]
  },
  {
   "cell_type": "code",
   "execution_count": 118,
   "metadata": {},
   "outputs": [],
   "source": [
    "states_for_url = []\n",
    "for item in state_code_read:\n",
    "    i = item[item.find('.')+1 : ]\n",
    "    if i in states:\n",
    "        states_for_url.append(item)"
   ]
  },
  {
   "cell_type": "code",
   "execution_count": 119,
   "metadata": {},
   "outputs": [
    {
     "data": {
      "text/plain": [
       "['https://download.bls.gov/pub/time.series/la/la.data.21.Indiana',\n",
       " 'https://download.bls.gov/pub/time.series/la/la.data.31.Mississippi',\n",
       " 'https://download.bls.gov/pub/time.series/la/la.data.37.NewJersey']"
      ]
     },
     "execution_count": 119,
     "metadata": {},
     "output_type": "execute_result"
    }
   ],
   "source": [
    "urls = []\n",
    "for state in states_for_url:\n",
    "    urls.append('https://download.bls.gov/pub/time.series/la/la.data.' + state)\n",
    "urls"
   ]
  },
  {
   "cell_type": "code",
   "execution_count": 120,
   "metadata": {},
   "outputs": [],
   "source": [
    "for counter in range(0 , len(urls) ):\n",
    "    result = []\n",
    "    html = urllib.request.urlopen(urls[counter]).read().decode('utf-8')\n",
    "    htmlLines = html.splitlines(1)\n",
    "    finalHeader = ['series id', 'year', 'month', 'value', 'month_year']\n",
    "    headerLine = '\\t'.join(finalHeader)\n",
    "    result.append(headerLine)\n",
    "    for data in htmlLines[1:]:\n",
    "        entry = data.split('\\t')\n",
    "        strip_data = [item.strip() for item in entry]\n",
    "        year = int(strip_data[1])\n",
    "        if year>=2010 and year <= 2015:\n",
    "            month_year = [str(strip_data[2][1:]), str(year)]\n",
    "            my = str(strip_data[2][1:]) + '_' + str(year)\n",
    "            entryLine = '\\t'.join([\n",
    "                str(strip_data[0]),\n",
    "                str(year),\n",
    "                str(strip_data[2][1:]),\n",
    "                str(strip_data[3]),\n",
    "                str(my)\n",
    "            ])\n",
    "            result.append(entryLine)\n",
    "    with open('/home/jovyan/OneDrive/DESKTOP/output/' + states[counter] + '.txt', 'w') as f:\n",
    "        for item in result:\n",
    "            f.write(\"%s\\n\" % item)\n",
    "        f.close()"
   ]
  },
  {
   "cell_type": "code",
   "execution_count": 121,
   "metadata": {},
   "outputs": [],
   "source": [
    "#Question 2"
   ]
  },
  {
   "cell_type": "code",
   "execution_count": 122,
   "metadata": {},
   "outputs": [],
   "source": [
    "import urllib.request\n",
    "states = ['NewYork', 'Mississippi', 'NewJersey']\n",
    "state_code = open('/home/jovyan/OneDrive/DESKTOP/BLS_state_codes.csv','r')\n",
    "state_code_read = state_code.read()\n",
    "state_code.close()"
   ]
  },
  {
   "cell_type": "code",
   "execution_count": 123,
   "metadata": {},
   "outputs": [],
   "source": [
    "state_code_read = state_code_read.replace(',','.')\n",
    "state_code_read = state_code_read.splitlines(0)"
   ]
  },
  {
   "cell_type": "code",
   "execution_count": 124,
   "metadata": {},
   "outputs": [],
   "source": [
    "states_for_url = []\n",
    "for item in state_code_read:\n",
    "    i = item[item.find('.')+1 : ]\n",
    "    if i in states:\n",
    "        states_for_url.append(item)"
   ]
  },
  {
   "cell_type": "code",
   "execution_count": 125,
   "metadata": {},
   "outputs": [
    {
     "data": {
      "text/plain": [
       "['https://download.bls.gov/pub/time.series/la/la.data.31.Mississippi',\n",
       " 'https://download.bls.gov/pub/time.series/la/la.data.37.NewJersey',\n",
       " 'https://download.bls.gov/pub/time.series/la/la.data.39.NewYork']"
      ]
     },
     "execution_count": 125,
     "metadata": {},
     "output_type": "execute_result"
    }
   ],
   "source": [
    "urls = []\n",
    "for state in states_and_code:\n",
    "    urls.append('https://download.bls.gov/pub/time.series/la/la.data.' + state)\n",
    "urls"
   ]
  },
  {
   "cell_type": "code",
   "execution_count": 126,
   "metadata": {},
   "outputs": [],
   "source": [
    "for counter in range(0 , len(urls) ):\n",
    "    result = []\n",
    "    html = urllib.request.urlopen(urls[counter]).read().decode('utf-8')\n",
    "    htmlLines = html.splitlines(1)\n",
    "    finalHeader = ['series id', 'year', 'month', 'value', 'month_year', 'state']\n",
    "    headerLine = '\\t'.join(finalHeader)\n",
    "    result.append(headerLine)\n",
    "    for data in htmlLines[1:]:\n",
    "        entry = data.split('\\t')\n",
    "        strip_data = [item.strip() for item in entry]\n",
    "        year = int(strip_data[1])\n",
    "        month = strip_data[2][1:]\n",
    "        if year>=2010 and year <= 2015 and month=='06':\n",
    "            month_year = [str(strip_data[2][1:]), str(year)]\n",
    "            my = str(strip_data[2][1:]) + '_' + str(year)\n",
    "            entryLine = '\\t'.join([\n",
    "                str(strip_data[0]),\n",
    "                str(year),\n",
    "                month,\n",
    "                str(strip_data[3]),\n",
    "                str(my),\n",
    "                states[counter]\n",
    "            ])\n",
    "            result.append(entryLine)\n",
    "    with open('/home/jovyan/OneDrive/DESKTOP/output/combine.txt', 'a+') as f:\n",
    "        for item in result:\n",
    "            f.write(\"%s\\n\" % item)\n",
    "        f.close()"
   ]
  },
  {
   "cell_type": "code",
   "execution_count": null,
   "metadata": {},
   "outputs": [],
   "source": []
  }
 ],
 "metadata": {
  "kernelspec": {
   "display_name": "Python 3",
   "language": "python",
   "name": "python3"
  },
  "language_info": {
   "codemirror_mode": {
    "name": "ipython",
    "version": 3
   },
   "file_extension": ".py",
   "mimetype": "text/x-python",
   "name": "python",
   "nbconvert_exporter": "python",
   "pygments_lexer": "ipython3",
   "version": "3.6.8"
  }
 },
 "nbformat": 4,
 "nbformat_minor": 2
}
