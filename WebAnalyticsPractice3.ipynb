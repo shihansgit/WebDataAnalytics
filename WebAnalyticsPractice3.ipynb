{
 "cells": [
  {
   "cell_type": "markdown",
   "metadata": {
    "deletable": true,
    "editable": true
   },
   "source": [
    "#### beautiful soup part"
   ]
  },
  {
   "cell_type": "code",
   "execution_count": 114,
   "metadata": {
    "collapsed": true,
    "deletable": true,
    "editable": true
   },
   "outputs": [
    {
     "data": {
      "text/plain": [
       "['https://www.sec.gov/Archives/edgar/data/1311981/000116204415001166/xslForm13F_X01/infotable.xml',\n",
       " 'https://www.sec.gov/Archives/edgar/data/813470/000151597116000610/xslForm13F_X01/infotable.xml',\n",
       " 'https://www.sec.gov/Archives/edgar/data/813470/000151597116000570/xslForm13F_X01/infotable.xml',\n",
       " 'https://www.sec.gov/Archives/edgar/data/813470/000151597116000494/xslForm13F_X01/infotable.xml',\n",
       " 'https://www.sec.gov/Archives/edgar/data/813470/000151597116000435/xslForm13F_X01/infotable.xml',\n",
       " 'https://www.sec.gov/Archives/edgar/data/813470/000151597115000375/xslForm13F_X01/infotable.xml',\n",
       " 'https://www.sec.gov/Archives/edgar/data/813470/000151597115000255/xslForm13F_X01/infotable.xml',\n",
       " 'https://www.sec.gov/Archives/edgar/data/813470/000151597115000139/xslForm13F_X01/infotable.xml',\n",
       " 'https://www.sec.gov/Archives/edgar/data/813470/000151597115000031/xslForm13F_X01/infotable.xml',\n",
       " 'https://www.sec.gov/Archives/edgar/data/813470/000151597114000479/xslForm13F_X01/infotable.xml',\n",
       " 'https://www.sec.gov/Archives/edgar/data/813470/000151597114000334/xslForm13F_X01/infotable.xml',\n",
       " 'https://www.sec.gov/Archives/edgar/data/813470/000151597114000215/xslForm13F_X01/infotable.xml',\n",
       " 'https://www.sec.gov/Archives/edgar/data/813470/000151597114000035/xslForm13F_X01/infotable.xml',\n",
       " 'https://www.sec.gov/Archives/edgar/data/813470/000134467613000058/xslForm13F_X01/infotable.xml',\n",
       " 'https://www.sec.gov/Archives/edgar/data/813470/000134467613000042/xslForm13F_X01/infotable.xml',\n",
       " 'https://www.sec.gov/Archives/edgar/data/797136/000079713613000035/xslForm13F_X01/fam13f9302013.xml']"
      ]
     },
     "execution_count": 114,
     "metadata": {},
     "output_type": "execute_result"
    }
   ],
   "source": [
    "import urllib.request\n",
    "import bs4 as bs\n",
    "from bs4 import SoupStrainer\n",
    "import codecs\n",
    "\n",
    "\n",
    "\n",
    "xml_date = []\n",
    "xml_Name = []\n",
    "xml_link = []\n",
    "\n",
    "input_file = open('/home/jovyan/OneDrive/DESKTOP/HW_Mutual_Fund_Info_Table_Link.csv', 'r')\n",
    "\n",
    "rows = input_file.readlines()\n",
    "input_file.close()\n",
    "\n",
    "for item in range(1,len(rows)):\n",
    "    columns = rows[item].split(',')\n",
    "    if columns[4] == 'xml':\n",
    "        xml_link.append('https://www.sec.gov' +columns[3])\n",
    "        xml_Name.append(columns[1])\n",
    "        xml_date.append(columns[2])\n",
    "\n",
    "xml_link\n",
    "# Your Code on Enumerating the Lists.  The result should be three lists, text_link, text_Name,\n",
    "#and text_date.  Each should have length 122."
   ]
  },
  {
   "cell_type": "code",
   "execution_count": 115,
   "metadata": {},
   "outputs": [
    {
     "data": {
      "text/plain": [
       "16"
      ]
     },
     "execution_count": 115,
     "metadata": {},
     "output_type": "execute_result"
    }
   ],
   "source": [
    "len(xml_link)"
   ]
  },
  {
   "cell_type": "code",
   "execution_count": 116,
   "metadata": {},
   "outputs": [
    {
     "data": {
      "text/plain": [
       "16"
      ]
     },
     "execution_count": 116,
     "metadata": {},
     "output_type": "execute_result"
    }
   ],
   "source": [
    "from datetime import datetime\n",
    "\n",
    "#Use the following list to store the filtered values.\n",
    "filtered_dates = []\n",
    "filtered_name = []\n",
    "filtered_link = []\n",
    "\n",
    "#Enter code here to to keep only the dates corresponding to after 2010.  \n",
    "\n",
    "start_date = datetime.strptime('2010-12-31', '%Y-%m-%d')\n",
    "for item in rows[1:]:\n",
    "    columns = item.split(',')\n",
    "    year = datetime.strptime(columns[2], '%Y-%m-%d').year\n",
    "    if columns[4] == 'xml' and year > 2010:\n",
    "        filtered_link.append('https://www.sec.gov' + columns[3])\n",
    "        filtered_name.append(columns[1])\n",
    "        filtered_dates.append(columns[2])\n",
    "len(filtered_link)"
   ]
  },
  {
   "cell_type": "code",
   "execution_count": 117,
   "metadata": {},
   "outputs": [
    {
     "data": {
      "text/plain": [
       "'<!DOCTYPE html PUBLIC \"-//W3C//DTD HTML 4.01 Transitional//EN\" \"http://www.w3.org/TR/html4/loose.dtd'"
      ]
     },
     "execution_count": 117,
     "metadata": {},
     "output_type": "execute_result"
    }
   ],
   "source": [
    "html = urllib.request.urlopen(filtered_link[0]).read().decode('utf-8')\n",
    "html[0:100]"
   ]
  },
  {
   "cell_type": "code",
   "execution_count": 118,
   "metadata": {},
   "outputs": [
    {
     "data": {
      "text/plain": [
       "1"
      ]
     },
     "execution_count": 118,
     "metadata": {},
     "output_type": "execute_result"
    }
   ],
   "source": [
    "soup = bs.BeautifulSoup(html, 'html.parser')\n",
    "infotable = soup.find_all(\"table\", summary = \"Form 13F-NT Header Information\")\n",
    "infotable[0]\n",
    "rows = infotable[0].find_all('tr')\n",
    "columns = rows[0].find_all('td')\n",
    "infotable[0].find_all('tr')[3].find_all('td')[0].getText()\n",
    "\n",
    "\n",
    "len(infotable)"
   ]
  },
  {
   "cell_type": "code",
   "execution_count": 119,
   "metadata": {},
   "outputs": [
    {
     "data": {
      "text/plain": [
       "2830"
      ]
     },
     "execution_count": 119,
     "metadata": {},
     "output_type": "execute_result"
    }
   ],
   "source": [
    "import time\n",
    "import random\n",
    "\n",
    "issue_date = []\n",
    "mutual_fund_name = [] \n",
    "name_of_issuer = [] \n",
    "CUSIP = [] \n",
    "shares = []\n",
    "\n",
    "for link_number in range(0,len(filtered_link)): \n",
    "    html = urllib.request.urlopen(filtered_link[link_number]).read().decode('utf-8')\n",
    "    \n",
    "    soup = bs.BeautifulSoup(html)\n",
    "    \n",
    "    infotable = soup.find_all(\"table\", summary = \"Form 13F-NT Header Information\")\n",
    "    \n",
    "    for row in infotable[0].find_all('tr')[3:]:\n",
    "        columns = row.find_all('td')\n",
    "        mutual_fund_name.append(filtered_name[link_number])\n",
    "        issue_date.append(filtered_dates[link_number])\n",
    "        name_of_issuer.append(columns[0].getText())\n",
    "        CUSIP.append(columns[2].getText())\n",
    "        shares.append(columns[4].getText()) \n",
    "    \n",
    "len(shares)  "
   ]
  },
  {
   "cell_type": "markdown",
   "metadata": {
    "deletable": true,
    "editable": true
   },
   "source": [
    "#### panda part"
   ]
  },
  {
   "cell_type": "code",
   "execution_count": 120,
   "metadata": {},
   "outputs": [
    {
     "data": {
      "text/html": [
       "<div>\n",
       "<style scoped>\n",
       "    .dataframe tbody tr th:only-of-type {\n",
       "        vertical-align: middle;\n",
       "    }\n",
       "\n",
       "    .dataframe tbody tr th {\n",
       "        vertical-align: top;\n",
       "    }\n",
       "\n",
       "    .dataframe thead th {\n",
       "        text-align: right;\n",
       "    }\n",
       "</style>\n",
       "<table border=\"1\" class=\"dataframe\">\n",
       "  <thead>\n",
       "    <tr style=\"text-align: right;\">\n",
       "      <th></th>\n",
       "      <th>issue date</th>\n",
       "      <th>mutual fund name</th>\n",
       "      <th>name of issuer</th>\n",
       "      <th>CUSIP</th>\n",
       "      <th>shares</th>\n",
       "    </tr>\n",
       "  </thead>\n",
       "  <tbody>\n",
       "    <tr>\n",
       "      <th>0</th>\n",
       "      <td>2015-11-10</td>\n",
       "      <td>Adirondack_Funds</td>\n",
       "      <td>ABBOTT LABS</td>\n",
       "      <td>2824100</td>\n",
       "      <td>6,625</td>\n",
       "    </tr>\n",
       "    <tr>\n",
       "      <th>1</th>\n",
       "      <td>2015-11-10</td>\n",
       "      <td>Adirondack_Funds</td>\n",
       "      <td>ABBVIE INC</td>\n",
       "      <td>00287Y109</td>\n",
       "      <td>6,300</td>\n",
       "    </tr>\n",
       "    <tr>\n",
       "      <th>2</th>\n",
       "      <td>2015-11-10</td>\n",
       "      <td>Adirondack_Funds</td>\n",
       "      <td>ALCOA INC</td>\n",
       "      <td>13817101</td>\n",
       "      <td>45,800</td>\n",
       "    </tr>\n",
       "    <tr>\n",
       "      <th>3</th>\n",
       "      <td>2015-11-10</td>\n",
       "      <td>Adirondack_Funds</td>\n",
       "      <td>ALLSCRIPTS HEALTHCARE SOLUTN</td>\n",
       "      <td>01988P108</td>\n",
       "      <td>349,059</td>\n",
       "    </tr>\n",
       "    <tr>\n",
       "      <th>4</th>\n",
       "      <td>2015-11-10</td>\n",
       "      <td>Adirondack_Funds</td>\n",
       "      <td>AT&amp;T INC</td>\n",
       "      <td>00206R102</td>\n",
       "      <td>13,800</td>\n",
       "    </tr>\n",
       "    <tr>\n",
       "      <th>5</th>\n",
       "      <td>2015-11-10</td>\n",
       "      <td>Adirondack_Funds</td>\n",
       "      <td>AUTOBYTEL INC</td>\n",
       "      <td>05275N205</td>\n",
       "      <td>175,170</td>\n",
       "    </tr>\n",
       "    <tr>\n",
       "      <th>6</th>\n",
       "      <td>2015-11-10</td>\n",
       "      <td>Adirondack_Funds</td>\n",
       "      <td>AXCELIS TECHNOLOGIES INC</td>\n",
       "      <td>54540109</td>\n",
       "      <td>1,335,963</td>\n",
       "    </tr>\n",
       "    <tr>\n",
       "      <th>7</th>\n",
       "      <td>2015-11-10</td>\n",
       "      <td>Adirondack_Funds</td>\n",
       "      <td>AXT INC</td>\n",
       "      <td>00246W103</td>\n",
       "      <td>277,040</td>\n",
       "    </tr>\n",
       "    <tr>\n",
       "      <th>8</th>\n",
       "      <td>2015-11-10</td>\n",
       "      <td>Adirondack_Funds</td>\n",
       "      <td>BARRETT BILL CORP</td>\n",
       "      <td>06846N104</td>\n",
       "      <td>57,239</td>\n",
       "    </tr>\n",
       "    <tr>\n",
       "      <th>9</th>\n",
       "      <td>2015-11-10</td>\n",
       "      <td>Adirondack_Funds</td>\n",
       "      <td>BENCHMARK ELECTRS INC</td>\n",
       "      <td>08160H101</td>\n",
       "      <td>56,173</td>\n",
       "    </tr>\n",
       "  </tbody>\n",
       "</table>\n",
       "</div>"
      ],
      "text/plain": [
       "   issue date  mutual fund name                name of issuer      CUSIP  \\\n",
       "0  2015-11-10  Adirondack_Funds                   ABBOTT LABS    2824100   \n",
       "1  2015-11-10  Adirondack_Funds                    ABBVIE INC  00287Y109   \n",
       "2  2015-11-10  Adirondack_Funds                     ALCOA INC   13817101   \n",
       "3  2015-11-10  Adirondack_Funds  ALLSCRIPTS HEALTHCARE SOLUTN  01988P108   \n",
       "4  2015-11-10  Adirondack_Funds                      AT&T INC  00206R102   \n",
       "5  2015-11-10  Adirondack_Funds                 AUTOBYTEL INC  05275N205   \n",
       "6  2015-11-10  Adirondack_Funds      AXCELIS TECHNOLOGIES INC   54540109   \n",
       "7  2015-11-10  Adirondack_Funds                       AXT INC  00246W103   \n",
       "8  2015-11-10  Adirondack_Funds             BARRETT BILL CORP  06846N104   \n",
       "9  2015-11-10  Adirondack_Funds         BENCHMARK ELECTRS INC  08160H101   \n",
       "\n",
       "      shares  \n",
       "0      6,625  \n",
       "1      6,300  \n",
       "2     45,800  \n",
       "3    349,059  \n",
       "4     13,800  \n",
       "5    175,170  \n",
       "6  1,335,963  \n",
       "7    277,040  \n",
       "8     57,239  \n",
       "9     56,173  "
      ]
     },
     "execution_count": 120,
     "metadata": {},
     "output_type": "execute_result"
    }
   ],
   "source": [
    "pd1 = pd.DataFrame({'issue date': issue_date, 'mutual fund name': mutual_fund_name, 'name of issuer': name_of_issuer, 'CUSIP': CUSIP, 'shares': shares })\n",
    "pd1[0:10]"
   ]
  },
  {
   "cell_type": "code",
   "execution_count": 121,
   "metadata": {},
   "outputs": [
    {
     "data": {
      "text/html": [
       "<div>\n",
       "<style scoped>\n",
       "    .dataframe tbody tr th:only-of-type {\n",
       "        vertical-align: middle;\n",
       "    }\n",
       "\n",
       "    .dataframe tbody tr th {\n",
       "        vertical-align: top;\n",
       "    }\n",
       "\n",
       "    .dataframe thead th {\n",
       "        text-align: right;\n",
       "    }\n",
       "</style>\n",
       "<table border=\"1\" class=\"dataframe\">\n",
       "  <thead>\n",
       "    <tr style=\"text-align: right;\">\n",
       "      <th></th>\n",
       "      <th>issue date</th>\n",
       "      <th>mutual fund name</th>\n",
       "      <th>name of issuer</th>\n",
       "      <th>CUSIP</th>\n",
       "      <th>shares</th>\n",
       "    </tr>\n",
       "  </thead>\n",
       "  <tbody>\n",
       "    <tr>\n",
       "      <th>0</th>\n",
       "      <td>2013-05-06</td>\n",
       "      <td>Adirondack_Funds</td>\n",
       "      <td>ABBOTT LABS</td>\n",
       "      <td>002824100</td>\n",
       "      <td>6,825</td>\n",
       "    </tr>\n",
       "    <tr>\n",
       "      <th>1</th>\n",
       "      <td>2013-05-06</td>\n",
       "      <td>Adirondack_Funds</td>\n",
       "      <td>ABBVIE INC</td>\n",
       "      <td>00287Y109</td>\n",
       "      <td>6,825</td>\n",
       "    </tr>\n",
       "    <tr>\n",
       "      <th>2</th>\n",
       "      <td>2013-05-06</td>\n",
       "      <td>Adirondack_Funds</td>\n",
       "      <td>AERCAP HOLDINGS NV</td>\n",
       "      <td>N00985106</td>\n",
       "      <td>85,810</td>\n",
       "    </tr>\n",
       "    <tr>\n",
       "      <th>3</th>\n",
       "      <td>2013-05-06</td>\n",
       "      <td>Adirondack_Funds</td>\n",
       "      <td>AEROPOSTALE</td>\n",
       "      <td>007865108</td>\n",
       "      <td>67,987</td>\n",
       "    </tr>\n",
       "    <tr>\n",
       "      <th>4</th>\n",
       "      <td>2013-05-06</td>\n",
       "      <td>Adirondack_Funds</td>\n",
       "      <td>ALBANY MOLECULAR RESH INC</td>\n",
       "      <td>012423109</td>\n",
       "      <td>114,083</td>\n",
       "    </tr>\n",
       "    <tr>\n",
       "      <th>5</th>\n",
       "      <td>2013-05-06</td>\n",
       "      <td>Adirondack_Funds</td>\n",
       "      <td>ALCATEL-LUCENT</td>\n",
       "      <td>013904305</td>\n",
       "      <td>441,740</td>\n",
       "    </tr>\n",
       "    <tr>\n",
       "      <th>6</th>\n",
       "      <td>2013-05-06</td>\n",
       "      <td>Adirondack_Funds</td>\n",
       "      <td>ALLSCRIPTS HEALTHCARE SOLUTN</td>\n",
       "      <td>01988P108</td>\n",
       "      <td>190,749</td>\n",
       "    </tr>\n",
       "    <tr>\n",
       "      <th>7</th>\n",
       "      <td>2013-05-06</td>\n",
       "      <td>Adirondack_Funds</td>\n",
       "      <td>ALTEVA</td>\n",
       "      <td>02153V102</td>\n",
       "      <td>21,875</td>\n",
       "    </tr>\n",
       "    <tr>\n",
       "      <th>8</th>\n",
       "      <td>2013-05-06</td>\n",
       "      <td>Adirondack_Funds</td>\n",
       "      <td>ASSURED GUARANTY LTD</td>\n",
       "      <td>G0585R106</td>\n",
       "      <td>89,600</td>\n",
       "    </tr>\n",
       "    <tr>\n",
       "      <th>9</th>\n",
       "      <td>2013-05-06</td>\n",
       "      <td>Adirondack_Funds</td>\n",
       "      <td>AT&amp;T INC</td>\n",
       "      <td>00206R102</td>\n",
       "      <td>13,950</td>\n",
       "    </tr>\n",
       "  </tbody>\n",
       "</table>\n",
       "</div>"
      ],
      "text/plain": [
       "   issue date  mutual fund name                name of issuer       CUSIP  \\\n",
       "0  2013-05-06  Adirondack_Funds                   ABBOTT LABS  002824100    \n",
       "1  2013-05-06  Adirondack_Funds                    ABBVIE INC  00287Y109    \n",
       "2  2013-05-06  Adirondack_Funds            AERCAP HOLDINGS NV  N00985106    \n",
       "3  2013-05-06  Adirondack_Funds                   AEROPOSTALE  007865108    \n",
       "4  2013-05-06  Adirondack_Funds     ALBANY MOLECULAR RESH INC  012423109    \n",
       "5  2013-05-06  Adirondack_Funds                ALCATEL-LUCENT  013904305    \n",
       "6  2013-05-06  Adirondack_Funds  ALLSCRIPTS HEALTHCARE SOLUTN  01988P108    \n",
       "7  2013-05-06  Adirondack_Funds                        ALTEVA  02153V102    \n",
       "8  2013-05-06  Adirondack_Funds          ASSURED GUARANTY LTD  G0585R106    \n",
       "9  2013-05-06  Adirondack_Funds                      AT&T INC  00206R102    \n",
       "\n",
       "       shares  \n",
       "0      6,825   \n",
       "1      6,825   \n",
       "2     85,810   \n",
       "3     67,987   \n",
       "4    114,083   \n",
       "5    441,740   \n",
       "6    190,749   \n",
       "7     21,875   \n",
       "8     89,600   \n",
       "9     13,950   "
      ]
     },
     "execution_count": 121,
     "metadata": {},
     "output_type": "execute_result"
    }
   ],
   "source": [
    "pd2 = pd.read_csv('/home/jovyan/OneDrive/DESKTOP/output.txt', header = 0, sep='\\t')\n",
    "pd2[0:10]"
   ]
  },
  {
   "cell_type": "markdown",
   "metadata": {
    "deletable": true,
    "editable": true
   },
   "source": [
    "#### Finally, you write down the lists in the following file:"
   ]
  },
  {
   "cell_type": "code",
   "execution_count": 122,
   "metadata": {},
   "outputs": [
    {
     "data": {
      "text/html": [
       "<div>\n",
       "<style scoped>\n",
       "    .dataframe tbody tr th:only-of-type {\n",
       "        vertical-align: middle;\n",
       "    }\n",
       "\n",
       "    .dataframe tbody tr th {\n",
       "        vertical-align: top;\n",
       "    }\n",
       "\n",
       "    .dataframe thead th {\n",
       "        text-align: right;\n",
       "    }\n",
       "</style>\n",
       "<table border=\"1\" class=\"dataframe\">\n",
       "  <thead>\n",
       "    <tr style=\"text-align: right;\">\n",
       "      <th></th>\n",
       "      <th>issue date</th>\n",
       "      <th>mutual fund name</th>\n",
       "      <th>name of issuer</th>\n",
       "      <th>CUSIP</th>\n",
       "      <th>shares</th>\n",
       "    </tr>\n",
       "  </thead>\n",
       "  <tbody>\n",
       "    <tr>\n",
       "      <th>0</th>\n",
       "      <td>2015-11-10</td>\n",
       "      <td>Adirondack_Funds</td>\n",
       "      <td>ABBOTT LABS</td>\n",
       "      <td>2824100</td>\n",
       "      <td>6,625</td>\n",
       "    </tr>\n",
       "    <tr>\n",
       "      <th>1</th>\n",
       "      <td>2015-11-10</td>\n",
       "      <td>Adirondack_Funds</td>\n",
       "      <td>ABBVIE INC</td>\n",
       "      <td>00287Y109</td>\n",
       "      <td>6,300</td>\n",
       "    </tr>\n",
       "    <tr>\n",
       "      <th>2</th>\n",
       "      <td>2015-11-10</td>\n",
       "      <td>Adirondack_Funds</td>\n",
       "      <td>ALCOA INC</td>\n",
       "      <td>13817101</td>\n",
       "      <td>45,800</td>\n",
       "    </tr>\n",
       "    <tr>\n",
       "      <th>3</th>\n",
       "      <td>2015-11-10</td>\n",
       "      <td>Adirondack_Funds</td>\n",
       "      <td>ALLSCRIPTS HEALTHCARE SOLUTN</td>\n",
       "      <td>01988P108</td>\n",
       "      <td>349,059</td>\n",
       "    </tr>\n",
       "    <tr>\n",
       "      <th>4</th>\n",
       "      <td>2015-11-10</td>\n",
       "      <td>Adirondack_Funds</td>\n",
       "      <td>AT&amp;T INC</td>\n",
       "      <td>00206R102</td>\n",
       "      <td>13,800</td>\n",
       "    </tr>\n",
       "    <tr>\n",
       "      <th>5</th>\n",
       "      <td>2015-11-10</td>\n",
       "      <td>Adirondack_Funds</td>\n",
       "      <td>AUTOBYTEL INC</td>\n",
       "      <td>05275N205</td>\n",
       "      <td>175,170</td>\n",
       "    </tr>\n",
       "    <tr>\n",
       "      <th>6</th>\n",
       "      <td>2015-11-10</td>\n",
       "      <td>Adirondack_Funds</td>\n",
       "      <td>AXCELIS TECHNOLOGIES INC</td>\n",
       "      <td>54540109</td>\n",
       "      <td>1,335,963</td>\n",
       "    </tr>\n",
       "    <tr>\n",
       "      <th>7</th>\n",
       "      <td>2015-11-10</td>\n",
       "      <td>Adirondack_Funds</td>\n",
       "      <td>AXT INC</td>\n",
       "      <td>00246W103</td>\n",
       "      <td>277,040</td>\n",
       "    </tr>\n",
       "    <tr>\n",
       "      <th>8</th>\n",
       "      <td>2015-11-10</td>\n",
       "      <td>Adirondack_Funds</td>\n",
       "      <td>BARRETT BILL CORP</td>\n",
       "      <td>06846N104</td>\n",
       "      <td>57,239</td>\n",
       "    </tr>\n",
       "    <tr>\n",
       "      <th>9</th>\n",
       "      <td>2015-11-10</td>\n",
       "      <td>Adirondack_Funds</td>\n",
       "      <td>BENCHMARK ELECTRS INC</td>\n",
       "      <td>08160H101</td>\n",
       "      <td>56,173</td>\n",
       "    </tr>\n",
       "  </tbody>\n",
       "</table>\n",
       "</div>"
      ],
      "text/plain": [
       "   issue date  mutual fund name                name of issuer      CUSIP  \\\n",
       "0  2015-11-10  Adirondack_Funds                   ABBOTT LABS    2824100   \n",
       "1  2015-11-10  Adirondack_Funds                    ABBVIE INC  00287Y109   \n",
       "2  2015-11-10  Adirondack_Funds                     ALCOA INC   13817101   \n",
       "3  2015-11-10  Adirondack_Funds  ALLSCRIPTS HEALTHCARE SOLUTN  01988P108   \n",
       "4  2015-11-10  Adirondack_Funds                      AT&T INC  00206R102   \n",
       "5  2015-11-10  Adirondack_Funds                 AUTOBYTEL INC  05275N205   \n",
       "6  2015-11-10  Adirondack_Funds      AXCELIS TECHNOLOGIES INC   54540109   \n",
       "7  2015-11-10  Adirondack_Funds                       AXT INC  00246W103   \n",
       "8  2015-11-10  Adirondack_Funds             BARRETT BILL CORP  06846N104   \n",
       "9  2015-11-10  Adirondack_Funds         BENCHMARK ELECTRS INC  08160H101   \n",
       "\n",
       "      shares  \n",
       "0      6,625  \n",
       "1      6,300  \n",
       "2     45,800  \n",
       "3    349,059  \n",
       "4     13,800  \n",
       "5    175,170  \n",
       "6  1,335,963  \n",
       "7    277,040  \n",
       "8     57,239  \n",
       "9     56,173  "
      ]
     },
     "execution_count": 122,
     "metadata": {},
     "output_type": "execute_result"
    }
   ],
   "source": [
    "final_df = pd.concat([pd1,pd2])\n",
    "final_df[0:10]"
   ]
  },
  {
   "cell_type": "code",
   "execution_count": 123,
   "metadata": {},
   "outputs": [],
   "source": [
    "Out_File = codecs.open(\"/home/jovyan/OneDrive/DESKTOP/alldata.txt\", 'w' , \"utf-8\")\n",
    "\n",
    "Out_File.write(\"Mutual Fund Name\\t Issue Date\\t Name of Issuer\\t CUSIP\\t Shares \\r\\n\")\n",
    "\n",
    "for x in range(0,len(mutual_fund_name)):\n",
    "    Out_File.write(mutual_fund_name[x]  + '\\t' + issue_date[x] + '\\t' + name_of_issuer[x] + '\\t' + CUSIP[x] + '\\t' + shares[x] + '\\r\\n')\n",
    "    \n",
    "Out_File.close()"
   ]
  },
  {
   "cell_type": "code",
   "execution_count": null,
   "metadata": {},
   "outputs": [],
   "source": []
  }
 ],
 "metadata": {
  "kernelspec": {
   "display_name": "Python 3",
   "language": "python",
   "name": "python3"
  },
  "language_info": {
   "codemirror_mode": {
    "name": "ipython",
    "version": 3
   },
   "file_extension": ".py",
   "mimetype": "text/x-python",
   "name": "python",
   "nbconvert_exporter": "python",
   "pygments_lexer": "ipython3",
   "version": "3.6.8"
  }
 },
 "nbformat": 4,
 "nbformat_minor": 2
}
